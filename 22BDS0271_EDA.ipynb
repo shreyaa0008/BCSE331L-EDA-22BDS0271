{
  "cells": [
    {
      "cell_type": "markdown",
      "metadata": {},
      "source": [
        "# BCSE331L – Exploratory Data Analysis (EDA)\n",
        "**Student:** Shreya Singh (22BDS0271)  \n",
        "**Dataset:** PhD Publications – https://raw.githubusercontent.com/salemprakash/EDA/main/Data/PhDPPublications.csv  \n",
        "**Last updated:** 2025-08-14"
      ]
    },
    {
      "cell_type": "code",
      "metadata": {},
      "source": [
        "import pandas as pd\n",
        "import numpy as np\n",
        "import matplotlib.pyplot as plt\n",
        "import seaborn as sns\n",
        "\n",
        "# Load dataset\n",
        "DATA_URL = \"https://raw.githubusercontent.com/salemprakash/EDA/main/Data/PhDPPublications.csv\"\n",
        "df = pd.read_csv(DATA_URL)\n",
        "df.head()"
      ],
      "outputs": [],
      "execution_count": null
    },
    {
      "cell_type": "code",
      "metadata": {},
      "source": [
        "# Dimensions\n",
        "print(\"Shape:\", df.shape)\n",
        "df.info()"
      ],
      "outputs": [],
      "execution_count": null
    },
    {
      "cell_type": "code",
      "metadata": {},
      "source": [
        "# Summary statistics\n",
        "df.describe(include='all').T"
      ],
      "outputs": [],
      "execution_count": null
    },
    {
      "cell_type": "code",
      "metadata": {},
      "source": [
        "# Data Cleaning example\n",
        "df.columns = df.columns.str.strip().str.lower().str.replace(' ', '_')\n",
        "df = df.drop_duplicates()\n",
        "df.isna().sum()"
      ],
      "outputs": [],
      "execution_count": null
    },
    {
      "cell_type": "code",
      "metadata": {},
      "source": [
        "# Univariate Analysis\n",
        "for col in df.select_dtypes(include=np.number).columns:\n",
        "    plt.figure()\n",
        "    sns.histplot(df[col], kde=True)\n",
        "    plt.title(f\"Histogram of {col}\")\n",
        "    plt.show()"
      ],
      "outputs": [],
      "execution_count": null
    },
    {
      "cell_type": "code",
      "metadata": {},
      "source": [
        "# Bivariate Analysis - Correlation heatmap\n",
        "plt.figure(figsize=(8,6))\n",
        "sns.heatmap(df.corr(numeric_only=True), annot=True, cmap='coolwarm')\n",
        "plt.show()"
      ],
      "outputs": [],
      "execution_count": null
    }
  ],
  "metadata": {
    "colab": {
      "name": "22BDS0271_EDA.ipynb",
      "provenance": []
    },
    "kernelspec": {
      "display_name": "Python 3",
      "language": "python",
      "name": "python3"
    },
    "language_info": {
      "name": "python",
      "version": "3.11.8"
    }
  },
  "nbformat": 4,
  "nbformat_minor": 5
}